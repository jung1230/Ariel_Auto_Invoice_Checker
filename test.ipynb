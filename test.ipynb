{
 "cells": [
  {
   "cell_type": "code",
   "execution_count": 6,
   "id": "94cb8e65",
   "metadata": {},
   "outputs": [],
   "source": [
    "import pyodbc, pandas as pd, openpyxl, smtplib, pymssql"
   ]
  },
  {
   "cell_type": "markdown",
   "id": "f86e882b",
   "metadata": {},
   "source": []
  },
  {
   "cell_type": "code",
   "execution_count": null,
   "id": "33bf9020",
   "metadata": {},
   "outputs": [
    {
     "name": "stderr",
     "output_type": "stream",
     "text": [
      "C:\\Users\\AlanC\\AppData\\Local\\Temp\\ipykernel_33152\\1366716150.py:18: UserWarning: pandas only supports SQLAlchemy connectable (engine/connection) or database string URI or sqlite3 DBAPI2 connection. Other DBAPI2 objects are not tested. Please consider using SQLAlchemy.\n",
      "  df1 = pd.read_sql(query1, conn)\n",
      "C:\\Users\\AlanC\\AppData\\Local\\Temp\\ipykernel_33152\\1366716150.py:19: UserWarning: pandas only supports SQLAlchemy connectable (engine/connection) or database string URI or sqlite3 DBAPI2 connection. Other DBAPI2 objects are not tested. Please consider using SQLAlchemy.\n",
      "  df2 = pd.read_sql(query2, conn)\n"
     ]
    }
   ],
   "source": [
    "import json\n",
    "\n",
    "\n",
    "# Load secrets\n",
    "with open('secrets.json') as f:\n",
    "    secrets = json.load(f)\n",
    "\n",
    "conn = pyodbc.connect(conn_str)\n",
    "\n",
    "query1 = \"SELECT * FROM dbo.OrderInformationQuery\"\n",
    "query2 = \"SELECT * FROM dbo.ProductInformationQuery\"\n",
    "\n",
    "\n",
    "conn = pyodbc.connect(conn_str)\n",
    "df1 = pd.read_sql(query1, conn)\n",
    "df2 = pd.read_sql(query2, conn)\n",
    "# print(df1.head())\n",
    "# print(\"----------\")\n",
    "# print(df2.head())\n",
    "save_dir = \"Output_CSV\"\n",
    "\n",
    "df1.to_csv(f\"{save_dir}/OrderInformationQuery.csv\", index=False)\n",
    "df2.to_csv(f\"{save_dir}/ProductInformationQuery.csv\", index=False)\n"
   ]
  },
  {
   "cell_type": "code",
   "execution_count": null,
   "id": "8b3bdaca",
   "metadata": {},
   "outputs": [],
   "source": []
  }
 ],
 "metadata": {
  "kernelspec": {
   "display_name": "base",
   "language": "python",
   "name": "python3"
  },
  "language_info": {
   "codemirror_mode": {
    "name": "ipython",
    "version": 3
   },
   "file_extension": ".py",
   "mimetype": "text/x-python",
   "name": "python",
   "nbconvert_exporter": "python",
   "pygments_lexer": "ipython3",
   "version": "3.12.7"
  }
 },
 "nbformat": 4,
 "nbformat_minor": 5
}
