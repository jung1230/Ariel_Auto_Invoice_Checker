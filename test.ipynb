{
 "cells": [
  {
   "cell_type": "code",
   "execution_count": null,
   "id": "94cb8e65",
   "metadata": {},
   "outputs": [],
   "source": [
    "import pyodbc, pandas as pd, os, smtplib\n",
    "from email.message import EmailMessage\n",
    "import json\n"
   ]
  },
  {
   "cell_type": "code",
   "execution_count": 36,
   "id": "db5b7b80",
   "metadata": {},
   "outputs": [],
   "source": [
    "# Load secrets\n",
    "with open('secrets.json') as f:\n",
    "    secrets = json.load(f)"
   ]
  },
  {
   "cell_type": "code",
   "execution_count": null,
   "id": "33bf9020",
   "metadata": {},
   "outputs": [
    {
     "name": "stderr",
     "output_type": "stream",
     "text": [
      "C:\\Users\\AlanC\\AppData\\Local\\Temp\\ipykernel_33152\\2714422726.py:22: UserWarning: pandas only supports SQLAlchemy connectable (engine/connection) or database string URI or sqlite3 DBAPI2 connection. Other DBAPI2 objects are not tested. Please consider using SQLAlchemy.\n",
      "  df1 = pd.read_sql(query1, conn)\n",
      "C:\\Users\\AlanC\\AppData\\Local\\Temp\\ipykernel_33152\\2714422726.py:23: UserWarning: pandas only supports SQLAlchemy connectable (engine/connection) or database string URI or sqlite3 DBAPI2 connection. Other DBAPI2 objects are not tested. Please consider using SQLAlchemy.\n",
      "  df2 = pd.read_sql(query2, conn)\n"
     ]
    }
   ],
   "source": [
    "\n",
    "conn_str = (\n",
    "    f\"DRIVER={{ODBC Driver 18 for SQL Server}};\"\n",
    "    f\"SERVER={secrets['server']},1433;\"\n",
    "    f\"DATABASE={secrets['database']};\"\n",
    "    f\"UID={secrets['username']};\"\n",
    "    f\"PWD={secrets['password']};\"\n",
    "    \"Encrypt=no;\"\n",
    "    \"TrustServerCertificate=yes;\"\n",
    ")\n",
    "\n",
    "conn = pyodbc.connect(conn_str)\n",
    "\n",
    "query1 = \"SELECT * FROM dbo.OrderInformationQuery\"\n",
    "query2 = \"SELECT * FROM dbo.ProductInformationQuery\"\n",
    "\n",
    "\n",
    "conn = pyodbc.connect(conn_str)\n",
    "df1 = pd.read_sql(query1, conn)\n",
    "df2 = pd.read_sql(query2, conn)\n",
    "# print(df1.head())\n",
    "# print(\"----------\")\n",
    "# print(df2.head())\n",
    "os.makedirs(\"Output_CSV\", exist_ok=True)\n",
    "df1.to_csv(f\"Output_CSV/OrderInformationQuery.csv\", index=False)\n",
    "df2.to_csv(f\"Output_CSV/ProductInformationQuery.csv\", index=False)\n"
   ]
  },
  {
   "cell_type": "code",
   "execution_count": null,
   "id": "8b3bdaca",
   "metadata": {},
   "outputs": [
    {
     "name": "stdout",
     "output_type": "stream",
     "text": [
      "Email sender: alanchen20072@gmail.com\n"
     ]
    },
    {
     "data": {
      "text/plain": [
       "(221,\n",
       " b'2.0.0 closing connection e9e14a558f8ab-3dd94ac99dcsm20887105ab.70 - gsmtp')"
      ]
     },
     "execution_count": 37,
     "metadata": {},
     "output_type": "execute_result"
    }
   ],
   "source": [
    "# --- Email setup ---\n",
    "email_sender = secrets['email_sender']\n",
    "print(f\"Email sender: {email_sender}\")\n",
    "email_sender_password = secrets['email_sender_password']\n",
    "\n",
    "msg = EmailMessage()\n",
    "msg[\"From\"] = email_sender\n",
    "msg[\"To\"] = email_sender ### testing purposes, change to actual recipient\n",
    "msg[\"Subject\"] = \"Daily SQL Report\"\n",
    "msg.set_content(\"Hi,\\n\\nPlease find attached today's report.\\n\\nBest regards.\")\n",
    "\n",
    "file_paths = [\"Output_CSV/OrderInformationQuery.csv\",\"Output_CSV/ProductInformationQuery.csv\"]\n",
    "# Attach the file\n",
    "for file_path in file_paths:\n",
    "    with open(file_path, \"rb\") as f:\n",
    "        data = f.read()\n",
    "        msg.add_attachment(data,maintype=\"text\",subtype=\"csv\",filename=os.path.basename(file_path))\n",
    "\n",
    "\n",
    "# --- Send via SMTP ---\n",
    "smtp = smtplib.SMTP(\"smtp.gmail.com\", 587)    # change to your SMTP server(Gmail or Outlook)\n",
    "smtp.ehlo()                                         \n",
    "smtp.starttls()                                     \n",
    "smtp.ehlo()                                         \n",
    "smtp.login(email_sender, email_sender_password)               \n",
    "smtp.send_message(msg)                           \n",
    "smtp.quit()                                       \n",
    "\n",
    "\n",
    "f.close()\n",
    "conn.close()\n",
    "\n",
    "\n",
    "\n"
   ]
  },
  {
   "cell_type": "code",
   "execution_count": 42,
   "id": "b55348b0",
   "metadata": {},
   "outputs": [],
   "source": [
    "import shutil\n",
    "shutil.rmtree(\"Output_CSV\")"
   ]
  }
 ],
 "metadata": {
  "kernelspec": {
   "display_name": "base",
   "language": "python",
   "name": "python3"
  },
  "language_info": {
   "codemirror_mode": {
    "name": "ipython",
    "version": 3
   },
   "file_extension": ".py",
   "mimetype": "text/x-python",
   "name": "python",
   "nbconvert_exporter": "python",
   "pygments_lexer": "ipython3",
   "version": "3.12.7"
  }
 },
 "nbformat": 4,
 "nbformat_minor": 5
}
